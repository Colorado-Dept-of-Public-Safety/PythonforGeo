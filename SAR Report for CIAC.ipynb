{
 "cells": [
  {
   "cell_type": "markdown",
   "id": "latter-circumstances",
   "metadata": {},
   "source": [
    "## SAR Frequency Tables: May 2021 \n",
    "<p> Prepared By Analyst 134 </p> \n",
    "<p> Date: June 28th 2021 </p> \n",
    "<p> Purpose: Frequency Tables for SAR Reports in Pervious Month </p> \n",
    "<p> Data Source: Netsential Data Pull for May </p> "
   ]
  },
  {
   "cell_type": "code",
   "execution_count": 1,
   "id": "fuzzy-daily",
   "metadata": {},
   "outputs": [],
   "source": [
    "import pandas as pd\n",
    "import numpy as np\n",
    "import matplotlib.pyplot as plt \n",
    "import datetime\n",
    "import re"
   ]
  },
  {
   "cell_type": "code",
   "execution_count": 2,
   "id": "portable-description",
   "metadata": {},
   "outputs": [
    {
     "data": {
      "text/html": [
       "<div>\n",
       "<style scoped>\n",
       "    .dataframe tbody tr th:only-of-type {\n",
       "        vertical-align: middle;\n",
       "    }\n",
       "\n",
       "    .dataframe tbody tr th {\n",
       "        vertical-align: top;\n",
       "    }\n",
       "\n",
       "    .dataframe thead th {\n",
       "        text-align: right;\n",
       "    }\n",
       "</style>\n",
       "<table border=\"1\" class=\"dataframe\">\n",
       "  <thead>\n",
       "    <tr style=\"text-align: right;\">\n",
       "      <th></th>\n",
       "      <th>FormTimeStamp</th>\n",
       "      <th>NSTrackingNumber</th>\n",
       "      <th>NSFormName</th>\n",
       "      <th>FirstName</th>\n",
       "      <th>LastName</th>\n",
       "      <th>AgencyOrganization</th>\n",
       "      <th>AgencyOrganizationNameOther</th>\n",
       "      <th>PhoneNumber</th>\n",
       "      <th>EmailAddress</th>\n",
       "      <th>IncidentDate</th>\n",
       "      <th>IncidentTime</th>\n",
       "      <th>CaseNumber</th>\n",
       "      <th>Subjects</th>\n",
       "      <th>SubjectIdentification</th>\n",
       "      <th>Address</th>\n",
       "      <th>City</th>\n",
       "      <th>County</th>\n",
       "      <th>BriefSummary</th>\n",
       "      <th>Disposition</th>\n",
       "    </tr>\n",
       "  </thead>\n",
       "  <tbody>\n",
       "    <tr>\n",
       "      <th>0</th>\n",
       "      <td>5/30/2021 12:38</td>\n",
       "      <td>202100157</td>\n",
       "      <td>SAR-Public</td>\n",
       "      <td>NaN</td>\n",
       "      <td>NaN</td>\n",
       "      <td>NaN</td>\n",
       "      <td>NaN</td>\n",
       "      <td>646-372-5809</td>\n",
       "      <td>sarahlavigne@me.com</td>\n",
       "      <td>5/30/2021</td>\n",
       "      <td>11:15 AM</td>\n",
       "      <td>NaN</td>\n",
       "      <td>NaN</td>\n",
       "      <td>NaN</td>\n",
       "      <td>1424 E. 14th Ave 14th ave between Lafayette an...</td>\n",
       "      <td>Denver</td>\n",
       "      <td>Denver</td>\n",
       "      <td>I saw a 6'1 man with a marron coat, white or b...</td>\n",
       "      <td>The incident occurred in Denver D6. The SAR wa...</td>\n",
       "    </tr>\n",
       "    <tr>\n",
       "      <th>1</th>\n",
       "      <td>5/28/2021 13:44</td>\n",
       "      <td>202100156</td>\n",
       "      <td>SAR-Public</td>\n",
       "      <td>NaN</td>\n",
       "      <td>NaN</td>\n",
       "      <td>NaN</td>\n",
       "      <td>NaN</td>\n",
       "      <td>336-817-1593</td>\n",
       "      <td>NaN</td>\n",
       "      <td>5/28/2021</td>\n",
       "      <td>11:10am</td>\n",
       "      <td>NaN</td>\n",
       "      <td>NaN</td>\n",
       "      <td>NaN</td>\n",
       "      <td>8131 E Colorado ave</td>\n",
       "      <td>Denver</td>\n",
       "      <td>Denver</td>\n",
       "      <td>Four men in a silver/blue sedan approached me ...</td>\n",
       "      <td>Forwarded to District 3 analyst. No record on ...</td>\n",
       "    </tr>\n",
       "    <tr>\n",
       "      <th>2</th>\n",
       "      <td>5/27/2021 10:53</td>\n",
       "      <td>202100155</td>\n",
       "      <td>SAR-FOUO</td>\n",
       "      <td>Christopher</td>\n",
       "      <td>Powell</td>\n",
       "      <td>SCL Health -  -</td>\n",
       "      <td>NaN</td>\n",
       "      <td>720-899-2592</td>\n",
       "      <td>christopher.powell@sclhealth.org</td>\n",
       "      <td>5/15/2021</td>\n",
       "      <td>1738pm</td>\n",
       "      <td>SCL Health St Joseph Hospital</td>\n",
       "      <td>Unknown</td>\n",
       "      <td>early 40s Caucasian female</td>\n",
       "      <td>1375 E 19th Ave</td>\n",
       "      <td>Denver</td>\n",
       "      <td>Denver</td>\n",
       "      <td>A early 40s Caucasian female in black frame gl...</td>\n",
       "      <td>Forwarded to District 6 analyst for awareness ...</td>\n",
       "    </tr>\n",
       "    <tr>\n",
       "      <th>3</th>\n",
       "      <td>5/27/2021 10:39</td>\n",
       "      <td>202100154</td>\n",
       "      <td>SAR-FOUO</td>\n",
       "      <td>Christopher</td>\n",
       "      <td>Powell</td>\n",
       "      <td>SCL Health -  -</td>\n",
       "      <td>NaN</td>\n",
       "      <td>720-899-2592</td>\n",
       "      <td>christopher.powell@sclhealth.org</td>\n",
       "      <td>5/25/2021</td>\n",
       "      <td>0346 am</td>\n",
       "      <td>SCL Health MSC Infant Abduction Probe</td>\n",
       "      <td>Umkown</td>\n",
       "      <td>30s y/o Caucasian female.</td>\n",
       "      <td>1830 Franklin St</td>\n",
       "      <td>Denver</td>\n",
       "      <td>Denver</td>\n",
       "      <td>A Caucasian female late 20s early 30s enter th...</td>\n",
       "      <td>Forwarded to DPD District 6 analyst for awaren...</td>\n",
       "    </tr>\n",
       "    <tr>\n",
       "      <th>4</th>\n",
       "      <td>5/24/2021 22:02</td>\n",
       "      <td>202100153</td>\n",
       "      <td>SAR-Public</td>\n",
       "      <td>NaN</td>\n",
       "      <td>NaN</td>\n",
       "      <td>NaN</td>\n",
       "      <td>NaN</td>\n",
       "      <td>NaN</td>\n",
       "      <td>NaN</td>\n",
       "      <td>5/24/2021</td>\n",
       "      <td>9:00 AM</td>\n",
       "      <td>NaN</td>\n",
       "      <td>NaN</td>\n",
       "      <td>NaN</td>\n",
       "      <td>Hampden Ave, Suite 202, Denver, 80231.</td>\n",
       "      <td>Denver</td>\n",
       "      <td>Denver</td>\n",
       "      <td>Female asian massage therapists provide massag...</td>\n",
       "      <td>Sent to District 3 Analysis.</td>\n",
       "    </tr>\n",
       "  </tbody>\n",
       "</table>\n",
       "</div>"
      ],
      "text/plain": [
       "     FormTimeStamp  NSTrackingNumber  NSFormName    FirstName LastName  \\\n",
       "0  5/30/2021 12:38         202100157  SAR-Public          NaN      NaN   \n",
       "1  5/28/2021 13:44         202100156  SAR-Public          NaN      NaN   \n",
       "2  5/27/2021 10:53         202100155    SAR-FOUO  Christopher   Powell   \n",
       "3  5/27/2021 10:39         202100154    SAR-FOUO  Christopher   Powell   \n",
       "4  5/24/2021 22:02         202100153  SAR-Public          NaN      NaN   \n",
       "\n",
       "  AgencyOrganization  AgencyOrganizationNameOther   PhoneNumber  \\\n",
       "0                NaN                          NaN  646-372-5809   \n",
       "1                NaN                          NaN  336-817-1593   \n",
       "2    SCL Health -  -                          NaN  720-899-2592   \n",
       "3    SCL Health -  -                          NaN  720-899-2592   \n",
       "4                NaN                          NaN           NaN   \n",
       "\n",
       "                       EmailAddress IncidentDate IncidentTime  \\\n",
       "0               sarahlavigne@me.com    5/30/2021     11:15 AM   \n",
       "1                               NaN    5/28/2021      11:10am   \n",
       "2  christopher.powell@sclhealth.org    5/15/2021       1738pm   \n",
       "3  christopher.powell@sclhealth.org    5/25/2021      0346 am   \n",
       "4                               NaN    5/24/2021      9:00 AM   \n",
       "\n",
       "                              CaseNumber Subjects       SubjectIdentification  \\\n",
       "0                                    NaN      NaN                         NaN   \n",
       "1                                    NaN      NaN                         NaN   \n",
       "2          SCL Health St Joseph Hospital  Unknown  early 40s Caucasian female   \n",
       "3  SCL Health MSC Infant Abduction Probe   Umkown   30s y/o Caucasian female.   \n",
       "4                                    NaN      NaN                         NaN   \n",
       "\n",
       "                                             Address    City   County  \\\n",
       "0  1424 E. 14th Ave 14th ave between Lafayette an...  Denver  Denver    \n",
       "1                                8131 E Colorado ave  Denver  Denver    \n",
       "2                                    1375 E 19th Ave  Denver   Denver   \n",
       "3                                   1830 Franklin St  Denver   Denver   \n",
       "4             Hampden Ave, Suite 202, Denver, 80231.  Denver  Denver    \n",
       "\n",
       "                                        BriefSummary  \\\n",
       "0  I saw a 6'1 man with a marron coat, white or b...   \n",
       "1  Four men in a silver/blue sedan approached me ...   \n",
       "2  A early 40s Caucasian female in black frame gl...   \n",
       "3  A Caucasian female late 20s early 30s enter th...   \n",
       "4  Female asian massage therapists provide massag...   \n",
       "\n",
       "                                         Disposition  \n",
       "0  The incident occurred in Denver D6. The SAR wa...  \n",
       "1  Forwarded to District 3 analyst. No record on ...  \n",
       "2  Forwarded to District 6 analyst for awareness ...  \n",
       "3  Forwarded to DPD District 6 analyst for awaren...  \n",
       "4                       Sent to District 3 Analysis.  "
      ]
     },
     "execution_count": 2,
     "metadata": {},
     "output_type": "execute_result"
    }
   ],
   "source": [
    "# import data csv \n",
    "file = r'./Data For Python/Netessential.csv'\n",
    "pd.set_option('display.max_columns', None)\n",
    "SAR = pd.read_csv(file)\n",
    "SAR.head()"
   ]
  },
  {
   "cell_type": "code",
   "execution_count": 4,
   "id": "tutorial-visiting",
   "metadata": {},
   "outputs": [],
   "source": [
    "# Replace NaN values in columns \n",
    "SAR = SAR.replace(np.nan, '', regex=True)"
   ]
  },
  {
   "cell_type": "code",
   "execution_count": 146,
   "id": "heavy-programming",
   "metadata": {},
   "outputs": [],
   "source": [
    "# Lets try to convert many columns from object to data time \n",
    "# Remove pm from all incident time column\n",
    "SAR = SAR.astype({'FormTimeStamp':'datetime64', 'IncidentDate':'datetime64'})\n"
   ]
  },
  {
   "cell_type": "code",
   "execution_count": 147,
   "id": "directed-baghdad",
   "metadata": {},
   "outputs": [],
   "source": [
    "# lets split the FormTimeStamp into two seperate columns \n",
    "# we want to do this so we can understand the difference between\n",
    "# the date the SAR was reported and the date of the incident in question \n",
    "SAR['new_date'] = [d.date() for d in SAR['FormTimeStamp']]\n",
    "SAR['new_time'] = [d.time() for d in SAR['FormTimeStamp']]\n"
   ]
  },
  {
   "cell_type": "code",
   "execution_count": 149,
   "id": "extensive-anger",
   "metadata": {},
   "outputs": [],
   "source": [
    "# Move new_date to first place in table\n",
    "cols = list(SAR)\n",
    "cols.insert(0, cols.pop(cols.index('new_date')))\n",
    "SAR = SAR.loc[:, cols]"
   ]
  },
  {
   "cell_type": "code",
   "execution_count": 150,
   "id": "general-cattle",
   "metadata": {},
   "outputs": [],
   "source": [
    "# Move new_time to 2 place in table\n",
    "cols = list(SAR)\n",
    "cols.insert(2,cols.pop(cols.index('new_time')))\n",
    "SAR = SAR.loc[:, cols]"
   ]
  },
  {
   "cell_type": "code",
   "execution_count": 151,
   "id": "seven-medicare",
   "metadata": {},
   "outputs": [],
   "source": [
    "# add a new column that gets the difference from IncidentDate to new_date \n",
    "SAR = SAR.astype({'new_date':'datetime64'})\n",
    "SAR['Date_Length'] = (SAR['new_date'] - SAR['IncidentDate']).dt.days"
   ]
  },
  {
   "cell_type": "markdown",
   "id": "enclosed-bridal",
   "metadata": {},
   "source": [
    "### Frequency Tables"
   ]
  },
  {
   "cell_type": "markdown",
   "id": "cheap-wagon",
   "metadata": {},
   "source": [
    "#### SAR Type"
   ]
  },
  {
   "cell_type": "code",
   "execution_count": 137,
   "id": "engaging-yemen",
   "metadata": {},
   "outputs": [
    {
     "data": {
      "text/html": [
       "<div>\n",
       "<style scoped>\n",
       "    .dataframe tbody tr th:only-of-type {\n",
       "        vertical-align: middle;\n",
       "    }\n",
       "\n",
       "    .dataframe tbody tr th {\n",
       "        vertical-align: top;\n",
       "    }\n",
       "\n",
       "    .dataframe thead th {\n",
       "        text-align: right;\n",
       "    }\n",
       "</style>\n",
       "<table border=\"1\" class=\"dataframe\">\n",
       "  <thead>\n",
       "    <tr style=\"text-align: right;\">\n",
       "      <th>col_0</th>\n",
       "      <th>count</th>\n",
       "      <th>percent</th>\n",
       "    </tr>\n",
       "    <tr>\n",
       "      <th>NSFormName</th>\n",
       "      <th></th>\n",
       "      <th></th>\n",
       "    </tr>\n",
       "  </thead>\n",
       "  <tbody>\n",
       "    <tr>\n",
       "      <th>SAR-FOUO</th>\n",
       "      <td>6</td>\n",
       "      <td>23.08%</td>\n",
       "    </tr>\n",
       "    <tr>\n",
       "      <th>SAR-LES</th>\n",
       "      <td>5</td>\n",
       "      <td>19.23%</td>\n",
       "    </tr>\n",
       "    <tr>\n",
       "      <th>SAR-Public</th>\n",
       "      <td>15</td>\n",
       "      <td>57.69%</td>\n",
       "    </tr>\n",
       "  </tbody>\n",
       "</table>\n",
       "</div>"
      ],
      "text/plain": [
       "col_0       count percent\n",
       "NSFormName               \n",
       "SAR-FOUO        6  23.08%\n",
       "SAR-LES         5  19.23%\n",
       "SAR-Public     15  57.69%"
      ]
     },
     "execution_count": 137,
     "metadata": {},
     "output_type": "execute_result"
    }
   ],
   "source": [
    "# Form Type Frequecy Information \n",
    "#Get Counts \n",
    "ftype = pd.crosstab(SAR.NSFormName, columns ='count')\n",
    "#Get percentages \n",
    "ftype['percent'] = (ftype['count'] / ftype['count'].sum()) * 100\n",
    "#Format your percentages so you have two decimal places. \n",
    "ftype['percent'] = ftype['percent'].map('{:,.2f}%'.format)\n",
    "#print your Datframe \n",
    "ftype"
   ]
  },
  {
   "cell_type": "markdown",
   "id": "positive-tribune",
   "metadata": {},
   "source": [
    "#### Agency Organization"
   ]
  },
  {
   "cell_type": "code",
   "execution_count": 138,
   "id": "alert-colleague",
   "metadata": {},
   "outputs": [
    {
     "data": {
      "text/html": [
       "<div>\n",
       "<style scoped>\n",
       "    .dataframe tbody tr th:only-of-type {\n",
       "        vertical-align: middle;\n",
       "    }\n",
       "\n",
       "    .dataframe tbody tr th {\n",
       "        vertical-align: top;\n",
       "    }\n",
       "\n",
       "    .dataframe thead th {\n",
       "        text-align: right;\n",
       "    }\n",
       "</style>\n",
       "<table border=\"1\" class=\"dataframe\">\n",
       "  <thead>\n",
       "    <tr style=\"text-align: right;\">\n",
       "      <th>col_0</th>\n",
       "      <th>count</th>\n",
       "      <th>percent</th>\n",
       "    </tr>\n",
       "    <tr>\n",
       "      <th>AgencyOrganization</th>\n",
       "      <th></th>\n",
       "      <th></th>\n",
       "    </tr>\n",
       "  </thead>\n",
       "  <tbody>\n",
       "    <tr>\n",
       "      <th></th>\n",
       "      <td>15</td>\n",
       "      <td>57.69%</td>\n",
       "    </tr>\n",
       "    <tr>\n",
       "      <th>Advantage Security Inc.</th>\n",
       "      <td>1</td>\n",
       "      <td>3.85%</td>\n",
       "    </tr>\n",
       "    <tr>\n",
       "      <th>CIAC</th>\n",
       "      <td>3</td>\n",
       "      <td>11.54%</td>\n",
       "    </tr>\n",
       "    <tr>\n",
       "      <th>Colorado State Patrol / CIAC</th>\n",
       "      <td>1</td>\n",
       "      <td>3.85%</td>\n",
       "    </tr>\n",
       "    <tr>\n",
       "      <th>Denver Water</th>\n",
       "      <td>1</td>\n",
       "      <td>3.85%</td>\n",
       "    </tr>\n",
       "    <tr>\n",
       "      <th>Empire Police Department</th>\n",
       "      <td>1</td>\n",
       "      <td>3.85%</td>\n",
       "    </tr>\n",
       "    <tr>\n",
       "      <th>Nederland Fire Protection District</th>\n",
       "      <td>1</td>\n",
       "      <td>3.85%</td>\n",
       "    </tr>\n",
       "    <tr>\n",
       "      <th>RTD Transit Police Division</th>\n",
       "      <td>1</td>\n",
       "      <td>3.85%</td>\n",
       "    </tr>\n",
       "    <tr>\n",
       "      <th>SCL Health -  -</th>\n",
       "      <td>2</td>\n",
       "      <td>7.69%</td>\n",
       "    </tr>\n",
       "  </tbody>\n",
       "</table>\n",
       "</div>"
      ],
      "text/plain": [
       "col_0                               count percent\n",
       "AgencyOrganization                               \n",
       "                                       15  57.69%\n",
       "Advantage Security Inc.                 1   3.85%\n",
       "CIAC                                    3  11.54%\n",
       "Colorado State Patrol / CIAC            1   3.85%\n",
       "Denver Water                            1   3.85%\n",
       "Empire Police Department                1   3.85%\n",
       "Nederland Fire Protection District      1   3.85%\n",
       "RTD Transit Police Division             1   3.85%\n",
       "SCL Health -  -                         2   7.69%"
      ]
     },
     "execution_count": 138,
     "metadata": {},
     "output_type": "execute_result"
    }
   ],
   "source": [
    "# Form Type Frequecy Information \n",
    "#Get Counts \n",
    "agency = pd.crosstab(SAR.AgencyOrganization, columns ='count')\n",
    "#Get percentages \n",
    "agency['percent'] = (agency['count'] / agency['count'].sum()) * 100\n",
    "#Format your percentages so you have two decimal places. \n",
    "agency['percent'] = agency['percent'].map('{:,.2f}%'.format)\n",
    "#print your Datframe \n",
    "agency"
   ]
  },
  {
   "cell_type": "markdown",
   "id": "asian-model",
   "metadata": {},
   "source": [
    "#### Geographic Informatiobn: Cities and Counties"
   ]
  },
  {
   "cell_type": "code",
   "execution_count": 139,
   "id": "educated-humidity",
   "metadata": {},
   "outputs": [
    {
     "data": {
      "text/html": [
       "<div>\n",
       "<style scoped>\n",
       "    .dataframe tbody tr th:only-of-type {\n",
       "        vertical-align: middle;\n",
       "    }\n",
       "\n",
       "    .dataframe tbody tr th {\n",
       "        vertical-align: top;\n",
       "    }\n",
       "\n",
       "    .dataframe thead th {\n",
       "        text-align: right;\n",
       "    }\n",
       "</style>\n",
       "<table border=\"1\" class=\"dataframe\">\n",
       "  <thead>\n",
       "    <tr style=\"text-align: right;\">\n",
       "      <th>col_0</th>\n",
       "      <th>count</th>\n",
       "      <th>percent</th>\n",
       "    </tr>\n",
       "    <tr>\n",
       "      <th>City</th>\n",
       "      <th></th>\n",
       "      <th></th>\n",
       "    </tr>\n",
       "  </thead>\n",
       "  <tbody>\n",
       "    <tr>\n",
       "      <th></th>\n",
       "      <td>1</td>\n",
       "      <td>3.85%</td>\n",
       "    </tr>\n",
       "    <tr>\n",
       "      <th>Centennial</th>\n",
       "      <td>2</td>\n",
       "      <td>7.69%</td>\n",
       "    </tr>\n",
       "    <tr>\n",
       "      <th>Colorado Springs</th>\n",
       "      <td>1</td>\n",
       "      <td>3.85%</td>\n",
       "    </tr>\n",
       "    <tr>\n",
       "      <th>Commerce City</th>\n",
       "      <td>2</td>\n",
       "      <td>7.69%</td>\n",
       "    </tr>\n",
       "    <tr>\n",
       "      <th>Denver</th>\n",
       "      <td>14</td>\n",
       "      <td>53.85%</td>\n",
       "    </tr>\n",
       "    <tr>\n",
       "      <th>Kittredge</th>\n",
       "      <td>1</td>\n",
       "      <td>3.85%</td>\n",
       "    </tr>\n",
       "    <tr>\n",
       "      <th>Littleton</th>\n",
       "      <td>1</td>\n",
       "      <td>3.85%</td>\n",
       "    </tr>\n",
       "    <tr>\n",
       "      <th>Littleton and Boulder</th>\n",
       "      <td>1</td>\n",
       "      <td>3.85%</td>\n",
       "    </tr>\n",
       "    <tr>\n",
       "      <th>Moffat</th>\n",
       "      <td>1</td>\n",
       "      <td>3.85%</td>\n",
       "    </tr>\n",
       "    <tr>\n",
       "      <th>Nederland</th>\n",
       "      <td>1</td>\n",
       "      <td>3.85%</td>\n",
       "    </tr>\n",
       "    <tr>\n",
       "      <th>Pueblo</th>\n",
       "      <td>1</td>\n",
       "      <td>3.85%</td>\n",
       "    </tr>\n",
       "  </tbody>\n",
       "</table>\n",
       "</div>"
      ],
      "text/plain": [
       "col_0                  count percent\n",
       "City                                \n",
       "                           1   3.85%\n",
       "Centennial                 2   7.69%\n",
       "Colorado Springs           1   3.85%\n",
       "Commerce City              2   7.69%\n",
       "Denver                    14  53.85%\n",
       "Kittredge                  1   3.85%\n",
       "Littleton                  1   3.85%\n",
       "Littleton and Boulder      1   3.85%\n",
       "Moffat                     1   3.85%\n",
       "Nederland                  1   3.85%\n",
       "Pueblo                     1   3.85%"
      ]
     },
     "execution_count": 139,
     "metadata": {},
     "output_type": "execute_result"
    }
   ],
   "source": [
    "# Cities metioned in SAR reports\n",
    "# Get counts \n",
    "cities = pd.crosstab(SAR.City, columns ='count')\n",
    "#Get percentages \n",
    "cities['percent'] = (cities['count'] / cities['count'].sum()) * 100\n",
    "#Format your percentages so you have two decimal places. \n",
    "cities['percent'] = cities['percent'].map('{:,.2f}%'.format)\n",
    "#print your Datframe \n",
    "cities"
   ]
  },
  {
   "cell_type": "code",
   "execution_count": 140,
   "id": "premium-methodology",
   "metadata": {},
   "outputs": [
    {
     "data": {
      "text/html": [
       "<div>\n",
       "<style scoped>\n",
       "    .dataframe tbody tr th:only-of-type {\n",
       "        vertical-align: middle;\n",
       "    }\n",
       "\n",
       "    .dataframe tbody tr th {\n",
       "        vertical-align: top;\n",
       "    }\n",
       "\n",
       "    .dataframe thead th {\n",
       "        text-align: right;\n",
       "    }\n",
       "</style>\n",
       "<table border=\"1\" class=\"dataframe\">\n",
       "  <thead>\n",
       "    <tr style=\"text-align: right;\">\n",
       "      <th>col_0</th>\n",
       "      <th>count</th>\n",
       "      <th>percent</th>\n",
       "    </tr>\n",
       "    <tr>\n",
       "      <th>County</th>\n",
       "      <th></th>\n",
       "      <th></th>\n",
       "    </tr>\n",
       "  </thead>\n",
       "  <tbody>\n",
       "    <tr>\n",
       "      <th></th>\n",
       "      <td>6</td>\n",
       "      <td>23.08%</td>\n",
       "    </tr>\n",
       "    <tr>\n",
       "      <th>.Statewide</th>\n",
       "      <td>1</td>\n",
       "      <td>3.85%</td>\n",
       "    </tr>\n",
       "    <tr>\n",
       "      <th>Adams</th>\n",
       "      <td>1</td>\n",
       "      <td>3.85%</td>\n",
       "    </tr>\n",
       "    <tr>\n",
       "      <th>Boulder</th>\n",
       "      <td>1</td>\n",
       "      <td>3.85%</td>\n",
       "    </tr>\n",
       "    <tr>\n",
       "      <th>Denver</th>\n",
       "      <td>5</td>\n",
       "      <td>19.23%</td>\n",
       "    </tr>\n",
       "    <tr>\n",
       "      <th>Denver</th>\n",
       "      <td>8</td>\n",
       "      <td>30.77%</td>\n",
       "    </tr>\n",
       "    <tr>\n",
       "      <th>El Paso</th>\n",
       "      <td>1</td>\n",
       "      <td>3.85%</td>\n",
       "    </tr>\n",
       "    <tr>\n",
       "      <th>Jefferson</th>\n",
       "      <td>1</td>\n",
       "      <td>3.85%</td>\n",
       "    </tr>\n",
       "    <tr>\n",
       "      <th>Pueblo</th>\n",
       "      <td>1</td>\n",
       "      <td>3.85%</td>\n",
       "    </tr>\n",
       "    <tr>\n",
       "      <th>Saguache</th>\n",
       "      <td>1</td>\n",
       "      <td>3.85%</td>\n",
       "    </tr>\n",
       "  </tbody>\n",
       "</table>\n",
       "</div>"
      ],
      "text/plain": [
       "col_0       count percent\n",
       "County                   \n",
       "                6  23.08%\n",
       ".Statewide      1   3.85%\n",
       "Adams           1   3.85%\n",
       "Boulder         1   3.85%\n",
       "Denver          5  19.23%\n",
       "Denver          8  30.77%\n",
       "El Paso         1   3.85%\n",
       "Jefferson       1   3.85%\n",
       "Pueblo          1   3.85%\n",
       "Saguache        1   3.85%"
      ]
     },
     "execution_count": 140,
     "metadata": {},
     "output_type": "execute_result"
    }
   ],
   "source": [
    "# Counties Mentioned in SAR  Reports \n",
    "counties = pd.crosstab(SAR.County, columns ='count')\n",
    "#Get percentages \n",
    "counties['percent'] = (counties['count'] / counties['count'].sum()) * 100\n",
    "#Format your percentages so you have two decimal places. \n",
    "counties['percent'] = counties['percent'].map('{:,.2f}%'.format)\n",
    "#print your Datframe \n",
    "counties\n",
    "# Denver is split up twice, not sure why rght now."
   ]
  },
  {
   "cell_type": "markdown",
   "id": "premier-leeds",
   "metadata": {},
   "source": [
    "### Time Difference and Number of Reports Per Day"
   ]
  },
  {
   "cell_type": "markdown",
   "id": "signed-impact",
   "metadata": {},
   "source": [
    "#### Number of Reports Per Day "
   ]
  },
  {
   "cell_type": "code",
   "execution_count": 141,
   "id": "atmospheric-crawford",
   "metadata": {},
   "outputs": [
    {
     "data": {
      "text/html": [
       "<div>\n",
       "<style scoped>\n",
       "    .dataframe tbody tr th:only-of-type {\n",
       "        vertical-align: middle;\n",
       "    }\n",
       "\n",
       "    .dataframe tbody tr th {\n",
       "        vertical-align: top;\n",
       "    }\n",
       "\n",
       "    .dataframe thead th {\n",
       "        text-align: right;\n",
       "    }\n",
       "</style>\n",
       "<table border=\"1\" class=\"dataframe\">\n",
       "  <thead>\n",
       "    <tr style=\"text-align: right;\">\n",
       "      <th>col_0</th>\n",
       "      <th>count</th>\n",
       "      <th>percent</th>\n",
       "    </tr>\n",
       "    <tr>\n",
       "      <th>new_date</th>\n",
       "      <th></th>\n",
       "      <th></th>\n",
       "    </tr>\n",
       "  </thead>\n",
       "  <tbody>\n",
       "    <tr>\n",
       "      <th>2021-05-03</th>\n",
       "      <td>1</td>\n",
       "      <td>3.85%</td>\n",
       "    </tr>\n",
       "    <tr>\n",
       "      <th>2021-05-05</th>\n",
       "      <td>1</td>\n",
       "      <td>3.85%</td>\n",
       "    </tr>\n",
       "    <tr>\n",
       "      <th>2021-05-06</th>\n",
       "      <td>1</td>\n",
       "      <td>3.85%</td>\n",
       "    </tr>\n",
       "    <tr>\n",
       "      <th>2021-05-07</th>\n",
       "      <td>2</td>\n",
       "      <td>7.69%</td>\n",
       "    </tr>\n",
       "    <tr>\n",
       "      <th>2021-05-09</th>\n",
       "      <td>1</td>\n",
       "      <td>3.85%</td>\n",
       "    </tr>\n",
       "    <tr>\n",
       "      <th>2021-05-10</th>\n",
       "      <td>1</td>\n",
       "      <td>3.85%</td>\n",
       "    </tr>\n",
       "    <tr>\n",
       "      <th>2021-05-11</th>\n",
       "      <td>1</td>\n",
       "      <td>3.85%</td>\n",
       "    </tr>\n",
       "    <tr>\n",
       "      <th>2021-05-12</th>\n",
       "      <td>5</td>\n",
       "      <td>19.23%</td>\n",
       "    </tr>\n",
       "    <tr>\n",
       "      <th>2021-05-14</th>\n",
       "      <td>2</td>\n",
       "      <td>7.69%</td>\n",
       "    </tr>\n",
       "    <tr>\n",
       "      <th>2021-05-17</th>\n",
       "      <td>1</td>\n",
       "      <td>3.85%</td>\n",
       "    </tr>\n",
       "    <tr>\n",
       "      <th>2021-05-20</th>\n",
       "      <td>1</td>\n",
       "      <td>3.85%</td>\n",
       "    </tr>\n",
       "    <tr>\n",
       "      <th>2021-05-21</th>\n",
       "      <td>1</td>\n",
       "      <td>3.85%</td>\n",
       "    </tr>\n",
       "    <tr>\n",
       "      <th>2021-05-22</th>\n",
       "      <td>1</td>\n",
       "      <td>3.85%</td>\n",
       "    </tr>\n",
       "    <tr>\n",
       "      <th>2021-05-24</th>\n",
       "      <td>3</td>\n",
       "      <td>11.54%</td>\n",
       "    </tr>\n",
       "    <tr>\n",
       "      <th>2021-05-27</th>\n",
       "      <td>2</td>\n",
       "      <td>7.69%</td>\n",
       "    </tr>\n",
       "    <tr>\n",
       "      <th>2021-05-28</th>\n",
       "      <td>1</td>\n",
       "      <td>3.85%</td>\n",
       "    </tr>\n",
       "    <tr>\n",
       "      <th>2021-05-30</th>\n",
       "      <td>1</td>\n",
       "      <td>3.85%</td>\n",
       "    </tr>\n",
       "  </tbody>\n",
       "</table>\n",
       "</div>"
      ],
      "text/plain": [
       "col_0       count percent\n",
       "new_date                 \n",
       "2021-05-03      1   3.85%\n",
       "2021-05-05      1   3.85%\n",
       "2021-05-06      1   3.85%\n",
       "2021-05-07      2   7.69%\n",
       "2021-05-09      1   3.85%\n",
       "2021-05-10      1   3.85%\n",
       "2021-05-11      1   3.85%\n",
       "2021-05-12      5  19.23%\n",
       "2021-05-14      2   7.69%\n",
       "2021-05-17      1   3.85%\n",
       "2021-05-20      1   3.85%\n",
       "2021-05-21      1   3.85%\n",
       "2021-05-22      1   3.85%\n",
       "2021-05-24      3  11.54%\n",
       "2021-05-27      2   7.69%\n",
       "2021-05-28      1   3.85%\n",
       "2021-05-30      1   3.85%"
      ]
     },
     "execution_count": 141,
     "metadata": {},
     "output_type": "execute_result"
    }
   ],
   "source": [
    "# Number of Reports Per day in May \n",
    "reports_day = pd.crosstab(SAR.new_date, columns ='count')\n",
    "#Get percentages \n",
    "reports_day['percent'] = (reports_day['count'] / reports_day['count'].sum()) * 100\n",
    "#Format your percentages so you have two decimal places. \n",
    "reports_day['percent'] = reports_day['percent'].map('{:,.2f}%'.format)\n",
    "#print your Datframe \n",
    "reports_day"
   ]
  },
  {
   "cell_type": "markdown",
   "id": "functional-lighting",
   "metadata": {},
   "source": [
    "#### Difference Between Incident Date and SAR Report "
   ]
  },
  {
   "cell_type": "code",
   "execution_count": 142,
   "id": "italic-auction",
   "metadata": {},
   "outputs": [
    {
     "data": {
      "text/html": [
       "<div>\n",
       "<style scoped>\n",
       "    .dataframe tbody tr th:only-of-type {\n",
       "        vertical-align: middle;\n",
       "    }\n",
       "\n",
       "    .dataframe tbody tr th {\n",
       "        vertical-align: top;\n",
       "    }\n",
       "\n",
       "    .dataframe thead th {\n",
       "        text-align: right;\n",
       "    }\n",
       "</style>\n",
       "<table border=\"1\" class=\"dataframe\">\n",
       "  <thead>\n",
       "    <tr style=\"text-align: right;\">\n",
       "      <th>col_0</th>\n",
       "      <th>count</th>\n",
       "      <th>percent</th>\n",
       "    </tr>\n",
       "    <tr>\n",
       "      <th>Date_Length</th>\n",
       "      <th></th>\n",
       "      <th></th>\n",
       "    </tr>\n",
       "  </thead>\n",
       "  <tbody>\n",
       "    <tr>\n",
       "      <th>0</th>\n",
       "      <td>16</td>\n",
       "      <td>61.54%</td>\n",
       "    </tr>\n",
       "    <tr>\n",
       "      <th>1</th>\n",
       "      <td>7</td>\n",
       "      <td>26.92%</td>\n",
       "    </tr>\n",
       "    <tr>\n",
       "      <th>2</th>\n",
       "      <td>1</td>\n",
       "      <td>3.85%</td>\n",
       "    </tr>\n",
       "    <tr>\n",
       "      <th>12</th>\n",
       "      <td>1</td>\n",
       "      <td>3.85%</td>\n",
       "    </tr>\n",
       "    <tr>\n",
       "      <th>19</th>\n",
       "      <td>1</td>\n",
       "      <td>3.85%</td>\n",
       "    </tr>\n",
       "  </tbody>\n",
       "</table>\n",
       "</div>"
      ],
      "text/plain": [
       "col_0        count percent\n",
       "Date_Length               \n",
       "0               16  61.54%\n",
       "1                7  26.92%\n",
       "2                1   3.85%\n",
       "12               1   3.85%\n",
       "19               1   3.85%"
      ]
     },
     "execution_count": 142,
     "metadata": {},
     "output_type": "execute_result"
    }
   ],
   "source": [
    "length = pd.crosstab(SAR.Date_Length, columns ='count')\n",
    "#Get percentages \n",
    "length['percent'] = (length['count'] / length['count'].sum()) * 100\n",
    "#Format your percentages so you have two decimal places. \n",
    "length['percent'] = length['percent'].map('{:,.2f}%'.format)\n",
    "#print your Datframe \n",
    "length"
   ]
  },
  {
   "cell_type": "markdown",
   "id": "excess-kazakhstan",
   "metadata": {},
   "source": [
    "## Related Columns Frequencies \n",
    "<p> Date_Length column, denotes the difference between The day of the incident and the day the SAR was filled out.</p>"
   ]
  },
  {
   "cell_type": "code",
   "execution_count": 144,
   "id": "static-aside",
   "metadata": {},
   "outputs": [
    {
     "data": {
      "text/html": [
       "<div>\n",
       "<style scoped>\n",
       "    .dataframe tbody tr th:only-of-type {\n",
       "        vertical-align: middle;\n",
       "    }\n",
       "\n",
       "    .dataframe tbody tr th {\n",
       "        vertical-align: top;\n",
       "    }\n",
       "\n",
       "    .dataframe thead th {\n",
       "        text-align: right;\n",
       "    }\n",
       "</style>\n",
       "<table border=\"1\" class=\"dataframe\">\n",
       "  <thead>\n",
       "    <tr style=\"text-align: right;\">\n",
       "      <th>NSFormName</th>\n",
       "      <th>SAR-FOUO</th>\n",
       "      <th>SAR-LES</th>\n",
       "      <th>SAR-Public</th>\n",
       "    </tr>\n",
       "    <tr>\n",
       "      <th>Date_Length</th>\n",
       "      <th></th>\n",
       "      <th></th>\n",
       "      <th></th>\n",
       "    </tr>\n",
       "  </thead>\n",
       "  <tbody>\n",
       "    <tr>\n",
       "      <th>0</th>\n",
       "      <td>3</td>\n",
       "      <td>3</td>\n",
       "      <td>10</td>\n",
       "    </tr>\n",
       "    <tr>\n",
       "      <th>1</th>\n",
       "      <td>1</td>\n",
       "      <td>2</td>\n",
       "      <td>4</td>\n",
       "    </tr>\n",
       "    <tr>\n",
       "      <th>2</th>\n",
       "      <td>1</td>\n",
       "      <td>0</td>\n",
       "      <td>0</td>\n",
       "    </tr>\n",
       "    <tr>\n",
       "      <th>12</th>\n",
       "      <td>1</td>\n",
       "      <td>0</td>\n",
       "      <td>0</td>\n",
       "    </tr>\n",
       "    <tr>\n",
       "      <th>19</th>\n",
       "      <td>0</td>\n",
       "      <td>0</td>\n",
       "      <td>1</td>\n",
       "    </tr>\n",
       "  </tbody>\n",
       "</table>\n",
       "</div>"
      ],
      "text/plain": [
       "NSFormName   SAR-FOUO  SAR-LES  SAR-Public\n",
       "Date_Length                               \n",
       "0                   3        3          10\n",
       "1                   1        2           4\n",
       "2                   1        0           0\n",
       "12                  1        0           0\n",
       "19                  0        0           1"
      ]
     },
     "execution_count": 144,
     "metadata": {},
     "output_type": "execute_result"
    }
   ],
   "source": [
    "# SAR.value_counts([\"Date_Length\", \"NSFormName\"])\n",
    "pd.crosstab(SAR.Date_Length,SAR.NSFormName)"
   ]
  },
  {
   "cell_type": "markdown",
   "id": "authentic-traffic",
   "metadata": {},
   "source": [
    "### Description Keywords: Brief Summary Column\n",
    "<p> The SAR report data pull had a column of brief summary that allows analysts and the public to expand further on the incident they are reporting. </p> "
   ]
  },
  {
   "cell_type": "code",
   "execution_count": 4,
   "id": "strong-coordinator",
   "metadata": {},
   "outputs": [
    {
     "name": "stdout",
     "output_type": "stream",
     "text": [
      "Threats Mentioned In Brief Summary Column\n"
     ]
    }
   ],
   "source": [
    "print(\"Threats Mentioned In Brief Summary Column\")"
   ]
  },
  {
   "cell_type": "code",
   "execution_count": 7,
   "id": "congressional-education",
   "metadata": {},
   "outputs": [
    {
     "name": "stdout",
     "output_type": "stream",
     "text": [
      "Keyword: Threat\n"
     ]
    },
    {
     "data": {
      "text/plain": [
       "3"
      ]
     },
     "execution_count": 7,
     "metadata": {},
     "output_type": "execute_result"
    }
   ],
   "source": [
    "print(\"Keyword: Threat\")\n",
    "SAR.BriefSummary.str.count(\"threat\").sum()"
   ]
  },
  {
   "cell_type": "code",
   "execution_count": 14,
   "id": "correct-generation",
   "metadata": {},
   "outputs": [
    {
     "name": "stdout",
     "output_type": "stream",
     "text": [
      "Keyword: Drugs\n"
     ]
    },
    {
     "data": {
      "text/plain": [
       "1"
      ]
     },
     "execution_count": 14,
     "metadata": {},
     "output_type": "execute_result"
    }
   ],
   "source": [
    "print(\"Keyword: Drugs\")\n",
    "SAR.BriefSummary.str.count(\"drugs\").sum()"
   ]
  },
  {
   "cell_type": "code",
   "execution_count": 17,
   "id": "equal-precipitation",
   "metadata": {},
   "outputs": [
    {
     "name": "stdout",
     "output_type": "stream",
     "text": [
      "Keyword: Man or Woman\n"
     ]
    },
    {
     "data": {
      "text/plain": [
       "27"
      ]
     },
     "execution_count": 17,
     "metadata": {},
     "output_type": "execute_result"
    }
   ],
   "source": [
    "print(\"Keyword: Man\")\n",
    "SAR.BriefSummary.str.count(\"man\").sum()\n",
    "# SAR.BriefSummary.str.count(\"Woman\").sum()"
   ]
  },
  {
   "cell_type": "code",
   "execution_count": 32,
   "id": "other-melissa",
   "metadata": {},
   "outputs": [
    {
     "name": "stdout",
     "output_type": "stream",
     "text": [
      "Keyword: Woman\n"
     ]
    },
    {
     "data": {
      "text/plain": [
       "6"
      ]
     },
     "execution_count": 32,
     "metadata": {},
     "output_type": "execute_result"
    }
   ],
   "source": [
    "print(\"Keyword: Woman\")\n",
    "SAR.BriefSummary.str.count(\"woman\").sum()"
   ]
  },
  {
   "cell_type": "code",
   "execution_count": 34,
   "id": "minus-murder",
   "metadata": {},
   "outputs": [
    {
     "name": "stdout",
     "output_type": "stream",
     "text": [
      "Keyword: Caucasion Female\n"
     ]
    },
    {
     "data": {
      "text/plain": [
       "2"
      ]
     },
     "execution_count": 34,
     "metadata": {},
     "output_type": "execute_result"
    }
   ],
   "source": [
    "print(\"Keyword: Caucasion Female\" )\n",
    "SAR.BriefSummary.str.count(\"Caucasian female\").sum()"
   ]
  },
  {
   "cell_type": "markdown",
   "id": "reduced-leather",
   "metadata": {},
   "source": [
    "### Description Keywords: Disposition Column\n",
    "<p> The SAR report data pull had a column of Disposition that allows analysts to proivide information about what happens after the SAR has been filed. </p> "
   ]
  },
  {
   "cell_type": "code",
   "execution_count": 27,
   "id": "tamil-patio",
   "metadata": {},
   "outputs": [],
   "source": [
    "# change the dtype of the column of Disposition \n",
    "# SAR = SAR.astype({'Disposition':'string'})\n",
    "# SAR.Disposition"
   ]
  },
  {
   "cell_type": "code",
   "execution_count": 1,
   "id": "cutting-yukon",
   "metadata": {},
   "outputs": [
    {
     "name": "stdout",
     "output_type": "stream",
     "text": [
      "Words Denoting movement from the CIAC to another agency\n"
     ]
    }
   ],
   "source": [
    "print(\"Words Denoting movement from the CIAC to another agency\")"
   ]
  },
  {
   "cell_type": "code",
   "execution_count": 23,
   "id": "athletic-industry",
   "metadata": {},
   "outputs": [
    {
     "name": "stdout",
     "output_type": "stream",
     "text": [
      "Keyword: Forwarded\n"
     ]
    },
    {
     "data": {
      "text/plain": [
       "10.0"
      ]
     },
     "execution_count": 23,
     "metadata": {},
     "output_type": "execute_result"
    }
   ],
   "source": [
    "#freq = SAR.groupby(['Disposition']).count()\n",
    "#freq\n",
    "print(\"Keyword: Forwarded\")\n",
    "SAR.Disposition.str.count(\"Forwarded\").sum()"
   ]
  },
  {
   "cell_type": "code",
   "execution_count": 9,
   "id": "precious-works",
   "metadata": {},
   "outputs": [
    {
     "name": "stdout",
     "output_type": "stream",
     "text": [
      "Keyword: Emailed\n"
     ]
    },
    {
     "data": {
      "text/plain": [
       "2.0"
      ]
     },
     "execution_count": 9,
     "metadata": {},
     "output_type": "execute_result"
    }
   ],
   "source": [
    "# Count from Column \n",
    "print(\"Keyword: Emailed\")\n",
    "SAR.Disposition.str.count(\"Emailed\").sum()"
   ]
  },
  {
   "cell_type": "code",
   "execution_count": 11,
   "id": "social-morris",
   "metadata": {},
   "outputs": [
    {
     "name": "stdout",
     "output_type": "stream",
     "text": [
      "Keyword: Sent\n"
     ]
    },
    {
     "data": {
      "text/plain": [
       "2.0"
      ]
     },
     "execution_count": 11,
     "metadata": {},
     "output_type": "execute_result"
    }
   ],
   "source": [
    "print(\"Keyword: Sent\")\n",
    "SAR.Disposition.str.count(\"Sent\").sum()"
   ]
  },
  {
   "cell_type": "code",
   "execution_count": 13,
   "id": "objective-mailing",
   "metadata": {},
   "outputs": [
    {
     "name": "stdout",
     "output_type": "stream",
     "text": [
      "Keyword: Passed\n"
     ]
    },
    {
     "data": {
      "text/plain": [
       "2.0"
      ]
     },
     "execution_count": 13,
     "metadata": {},
     "output_type": "execute_result"
    }
   ],
   "source": [
    "print(\"Keyword: Passed\")\n",
    "SAR.Disposition.str.count(\"Passed\").sum()"
   ]
  },
  {
   "cell_type": "code",
   "execution_count": 14,
   "id": "streaming-arthritis",
   "metadata": {},
   "outputs": [
    {
     "name": "stdout",
     "output_type": "stream",
     "text": [
      "Keyword: Shared\n"
     ]
    },
    {
     "data": {
      "text/plain": [
       "4.0"
      ]
     },
     "execution_count": 14,
     "metadata": {},
     "output_type": "execute_result"
    }
   ],
   "source": [
    "print(\"Keyword: Shared\")\n",
    "SAR.Disposition.str.count(\"shared\").sum()"
   ]
  },
  {
   "cell_type": "code",
   "execution_count": 22,
   "id": "rising-blink",
   "metadata": {},
   "outputs": [
    {
     "name": "stdout",
     "output_type": "stream",
     "text": [
      "Words denoting the receiving agency\n"
     ]
    }
   ],
   "source": [
    "print(\"Words denoting the receiving agency\")"
   ]
  },
  {
   "cell_type": "code",
   "execution_count": 21,
   "id": "static-oregon",
   "metadata": {},
   "outputs": [
    {
     "name": "stdout",
     "output_type": "stream",
     "text": [
      "Keyword: DPD\n"
     ]
    },
    {
     "data": {
      "text/plain": [
       "8.0"
      ]
     },
     "execution_count": 21,
     "metadata": {},
     "output_type": "execute_result"
    }
   ],
   "source": [
    "print(\"Keyword: DPD\")\n",
    "SAR.Disposition.str.count(\"DPD\").sum()"
   ]
  },
  {
   "cell_type": "code",
   "execution_count": 16,
   "id": "minus-reflection",
   "metadata": {},
   "outputs": [
    {
     "name": "stdout",
     "output_type": "stream",
     "text": [
      "Keyword: Denver\n"
     ]
    },
    {
     "data": {
      "text/plain": [
       "4.0"
      ]
     },
     "execution_count": 16,
     "metadata": {},
     "output_type": "execute_result"
    }
   ],
   "source": [
    "print(\"Keyword: Denver\")\n",
    "SAR.Disposition.str.count(\"Denver\").sum()"
   ]
  },
  {
   "cell_type": "code",
   "execution_count": 17,
   "id": "upper-forwarding",
   "metadata": {},
   "outputs": [
    {
     "name": "stdout",
     "output_type": "stream",
     "text": [
      "Keyword: County\n"
     ]
    },
    {
     "data": {
      "text/plain": [
       "8.0"
      ]
     },
     "execution_count": 17,
     "metadata": {},
     "output_type": "execute_result"
    }
   ],
   "source": [
    "print(\"Keyword: County\")\n",
    "SAR.Disposition.str.count(\"County\").sum()"
   ]
  },
  {
   "cell_type": "code",
   "execution_count": 18,
   "id": "fallen-morris",
   "metadata": {},
   "outputs": [
    {
     "name": "stdout",
     "output_type": "stream",
     "text": [
      "Keyword: District\n"
     ]
    },
    {
     "data": {
      "text/plain": [
       "7.0"
      ]
     },
     "execution_count": 18,
     "metadata": {},
     "output_type": "execute_result"
    }
   ],
   "source": [
    "print('Keyword: District')\n",
    "SAR.Disposition.str.count(\"District\").sum()"
   ]
  },
  {
   "cell_type": "markdown",
   "id": "heard-sunrise",
   "metadata": {},
   "source": [
    "### Analysis of Keywords\n",
    "<p> An analysis of keywords in the column labled Disposition revelead the following: </p> \n",
    "<p> Words that suggested that a SAR was given to a LE Agency: 20 </p>  \n",
    "<p> Words that denoted which agency the SAR was given to: 22 </p> \n",
    "<p> Key Takeaway: There is no standard for reporting what happened after a SAR was taken.</p>\n",
    "<p> In some cases a sentence may include the words sent and Denver in the same row in the dataset. </p>\n",
    "<p> So there is some possible duplication of counts. </p>\n",
    "<p> Some analysts write out DPD District 6 while others just write out District 6.</p>\n",
    "<p> Going forwarding identifying which words to look for would be helpful for future reports.</p> "
   ]
  },
  {
   "cell_type": "code",
   "execution_count": null,
   "id": "prime-borough",
   "metadata": {},
   "outputs": [],
   "source": []
  }
 ],
 "metadata": {
  "kernelspec": {
   "display_name": "Python 3",
   "language": "python",
   "name": "python3"
  },
  "language_info": {
   "codemirror_mode": {
    "name": "ipython",
    "version": 3
   },
   "file_extension": ".py",
   "mimetype": "text/x-python",
   "name": "python",
   "nbconvert_exporter": "python",
   "pygments_lexer": "ipython3",
   "version": "3.8.8"
  },
  "latex_envs": {
   "LaTeX_envs_menu_present": true,
   "autoclose": false,
   "autocomplete": true,
   "bibliofile": "biblio.bib",
   "cite_by": "apalike",
   "current_citInitial": 1,
   "eqLabelWithNumbers": true,
   "eqNumInitial": 1,
   "hotkeys": {
    "equation": "Ctrl-E",
    "itemize": "Ctrl-I"
   },
   "labels_anchors": false,
   "latex_user_defs": false,
   "report_style_numbering": false,
   "user_envs_cfg": false
  },
  "nbTranslate": {
   "displayLangs": [
    "*"
   ],
   "hotkey": "alt-t",
   "langInMainMenu": true,
   "sourceLang": "en",
   "targetLang": "fr",
   "useGoogleTranslate": true
  }
 },
 "nbformat": 4,
 "nbformat_minor": 5
}
